{
 "cells": [
  {
   "cell_type": "code",
   "execution_count": 2,
   "id": "2ab4bfd4-e0b6-41f1-99b8-8b5a77fa0e29",
   "metadata": {},
   "outputs": [
    {
     "data": {
      "application/vnd.jupyter.widget-view+json": {
       "model_id": "b8988954e58349739ffcd8292dd232a6",
       "version_major": 2,
       "version_minor": 0
      },
      "text/plain": [
       "Tab(children=(HBox(children=(FileChooser(path='C:\\Users\\Sam\\Documents\\tomopyui\\tomopyui', filename='', title='…"
      ]
     },
     "execution_count": 2,
     "metadata": {},
     "output_type": "execute_result"
    }
   ],
   "source": [
    "%reload_ext autoreload\n",
    "%autoreload 2\n",
    "%matplotlib ipympl\n",
    "import tomopyui.widgets.main as main\n",
    "\n",
    "dashboard, file_import, center, prep, align, recon = main.create_dashboard()\n",
    "dashboard"
   ]
  },
  {
   "cell_type": "code",
   "execution_count": 4,
   "id": "c93c5b6e-65cf-427a-b86e-8a12481c0ba2",
   "metadata": {},
   "outputs": [
    {
     "data": {
      "text/plain": [
       "{'opts': {'downsample': False,\n",
       "  'downsample_factor': 0.5,\n",
       "  'num_iter': 1,\n",
       "  'center': 50.0,\n",
       "  'num_batches': IntText(value=20, description='Number of batches (for GPU): ', style=DescriptionStyle(description_width='auto')),\n",
       "  'pad': (10, 10),\n",
       "  'extra_options': {},\n",
       "  'upsample_factor': 50},\n",
       " 'methods': {'FBP_CUDA': True,\n",
       "  'SIRT_CUDA': False,\n",
       "  'SART_CUDA': False,\n",
       "  'CGLS_CUDA': False,\n",
       "  'MLEM_CUDA': False,\n",
       "  'SIRT Plugin-Faster': True,\n",
       "  'SIRT 3D-Fastest': False},\n",
       " 'save_opts': {'tomo_after': False,\n",
       "  'tomo_before': False,\n",
       "  'recon': False,\n",
       "  'tiff': False,\n",
       "  'npy': False},\n",
       " 'prj_range_x': (0, 10),\n",
       " 'prj_range_y': (0, 10),\n",
       " 'partial': False}"
      ]
     },
     "execution_count": 4,
     "metadata": {},
     "output_type": "execute_result"
    }
   ],
   "source": [
    "align.metadata"
   ]
  },
  {
   "cell_type": "code",
   "execution_count": 13,
   "id": "ba5ee277-74e8-4c00-82f4-2886d1b3d58b",
   "metadata": {},
   "outputs": [],
   "source": [
    "metadata_list = []\n",
    "for key in align.metadata[\"methods\"]:\n",
    "    d = align.metadata[\"methods\"]\n",
    "    keys_to_remove = set(align.metadata[\"methods\"].keys())\n",
    "    keys_to_remove.remove(key)\n",
    "    _d = {k.replace(\" \",\"_\"): d[k] for k in set(list(d.keys())) - keys_to_remove}\n",
    "    _metadata = align.metadata.copy()\n",
    "    _metadata[\"methods\"] = _d\n",
    "    newkey = key.replace(\" \",\"_\")\n",
    "    if _metadata[\"methods\"][newkey]: \n",
    "        metadata_list.append(_metadata) # append only true methods\n",
    "# for i in len(metadata_list):\n",
    "#     metadata_list[i][\"methods\"].pop"
   ]
  },
  {
   "cell_type": "code",
   "execution_count": 14,
   "id": "7feacbd1-0c19-464f-85c4-d00801693ead",
   "metadata": {},
   "outputs": [
    {
     "data": {
      "text/plain": [
       "[{'opts': {'downsample': False,\n",
       "   'downsample_factor': 0.5,\n",
       "   'num_iter': 1,\n",
       "   'center': 50.0,\n",
       "   'num_batches': IntText(value=20, description='Number of batches (for GPU): ', style=DescriptionStyle(description_width='auto')),\n",
       "   'pad': (10, 10),\n",
       "   'extra_options': {},\n",
       "   'upsample_factor': 50},\n",
       "  'methods': {'FBP_CUDA': True},\n",
       "  'save_opts': {'tomo_after': False,\n",
       "   'tomo_before': False,\n",
       "   'recon': False,\n",
       "   'tiff': False,\n",
       "   'npy': False},\n",
       "  'prj_range_x': (0, 10),\n",
       "  'prj_range_y': (0, 10),\n",
       "  'partial': False},\n",
       " {'opts': {'downsample': False,\n",
       "   'downsample_factor': 0.5,\n",
       "   'num_iter': 1,\n",
       "   'center': 50.0,\n",
       "   'num_batches': IntText(value=20, description='Number of batches (for GPU): ', style=DescriptionStyle(description_width='auto')),\n",
       "   'pad': (10, 10),\n",
       "   'extra_options': {},\n",
       "   'upsample_factor': 50},\n",
       "  'methods': {'SIRT_Plugin-Faster': True},\n",
       "  'save_opts': {'tomo_after': False,\n",
       "   'tomo_before': False,\n",
       "   'recon': False,\n",
       "   'tiff': False,\n",
       "   'npy': False},\n",
       "  'prj_range_x': (0, 10),\n",
       "  'prj_range_y': (0, 10),\n",
       "  'partial': False}]"
      ]
     },
     "execution_count": 14,
     "metadata": {},
     "output_type": "execute_result"
    }
   ],
   "source": [
    "metadata_list"
   ]
  },
  {
   "cell_type": "code",
   "execution_count": null,
   "id": "95f2a437-8eef-4bb6-a099-5b77551b2ff7",
   "metadata": {},
   "outputs": [],
   "source": []
  }
 ],
 "metadata": {
  "kernelspec": {
   "display_name": "Python 3 (ipykernel)",
   "language": "python",
   "name": "python3"
  },
  "language_info": {
   "codemirror_mode": {
    "name": "ipython",
    "version": 3
   },
   "file_extension": ".py",
   "mimetype": "text/x-python",
   "name": "python",
   "nbconvert_exporter": "python",
   "pygments_lexer": "ipython3",
   "version": "3.9.9"
  }
 },
 "nbformat": 4,
 "nbformat_minor": 5
}
